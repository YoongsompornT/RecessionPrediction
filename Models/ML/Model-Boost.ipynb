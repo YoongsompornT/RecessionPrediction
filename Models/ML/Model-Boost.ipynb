{
 "cells": [
  {
   "attachments": {},
   "cell_type": "markdown",
   "metadata": {},
   "source": [
    "# Supervised learning ML models\n",
    "Candidates:\n",
    "- KNN\n",
    "- SVM Classifier\n",
    "- Elastic Net\n",
    "- Naive Bayes\n",
    "- Gaussian Process\n",
    "- XGBoost\n",
    "\n",
    "Note to-do:\n",
    "- change metric from accuracy to weighted log-loss\n",
    "- deal with labels imbalance problem\n",
    "- grid search of optimal hyperparameters\n",
    "  - KNN: num neighbors k\n",
    "  - SVM: regularization parameter C ??\n",
    "- Should we consider time step as a feature\n",
    "- visualize in 2d とか"
   ]
  },
  {
   "cell_type": "code",
   "execution_count": 1,
   "metadata": {},
   "outputs": [],
   "source": [
    "import pandas as pd\n",
    "from sklearn.model_selection import train_test_split\n",
    "from sklearn.neighbors import KNeighborsClassifier\n",
    "from sklearn.svm import SVC\n",
    "from sklearn.metrics import accuracy_score, classification_report\n",
    "import matplotlib.pyplot as plt"
   ]
  },
  {
   "attachments": {},
   "cell_type": "markdown",
   "metadata": {},
   "source": [
    "## 0. Data"
   ]
  },
  {
   "cell_type": "code",
   "execution_count": 2,
   "metadata": {},
   "outputs": [
    {
     "data": {
      "text/html": [
       "<div>\n",
       "<style scoped>\n",
       "    .dataframe tbody tr th:only-of-type {\n",
       "        vertical-align: middle;\n",
       "    }\n",
       "\n",
       "    .dataframe tbody tr th {\n",
       "        vertical-align: top;\n",
       "    }\n",
       "\n",
       "    .dataframe thead th {\n",
       "        text-align: right;\n",
       "    }\n",
       "</style>\n",
       "<table border=\"1\" class=\"dataframe\">\n",
       "  <thead>\n",
       "    <tr style=\"text-align: right;\">\n",
       "      <th></th>\n",
       "      <th>DATE</th>\n",
       "      <th>Time_step</th>\n",
       "      <th>F1-T10Y2Y_norm</th>\n",
       "      <th>F3-IC4WSA_norm</th>\n",
       "      <th>F4-PERMIT_norm</th>\n",
       "      <th>F5-NFCICREDIT_norm</th>\n",
       "      <th>F6-UMCSENT_norm</th>\n",
       "      <th>F7-A576RC1_norm</th>\n",
       "      <th>Recession</th>\n",
       "      <th>Recession_within_6mo</th>\n",
       "      <th>Recession_within_12mo</th>\n",
       "    </tr>\n",
       "  </thead>\n",
       "  <tbody>\n",
       "    <tr>\n",
       "      <th>0</th>\n",
       "      <td>1978-01-31</td>\n",
       "      <td>0</td>\n",
       "      <td>0.524392</td>\n",
       "      <td>0.038496</td>\n",
       "      <td>0.701143</td>\n",
       "      <td>0.351203</td>\n",
       "      <td>0.543548</td>\n",
       "      <td>0.014578</td>\n",
       "      <td>0</td>\n",
       "      <td>0</td>\n",
       "      <td>0</td>\n",
       "    </tr>\n",
       "    <tr>\n",
       "      <th>1</th>\n",
       "      <td>1978-02-28</td>\n",
       "      <td>1</td>\n",
       "      <td>0.523961</td>\n",
       "      <td>0.042729</td>\n",
       "      <td>0.698857</td>\n",
       "      <td>0.393372</td>\n",
       "      <td>0.553226</td>\n",
       "      <td>0.015577</td>\n",
       "      <td>0</td>\n",
       "      <td>0</td>\n",
       "      <td>0</td>\n",
       "    </tr>\n",
       "    <tr>\n",
       "      <th>2</th>\n",
       "      <td>1978-03-31</td>\n",
       "      <td>2</td>\n",
       "      <td>0.522467</td>\n",
       "      <td>0.041980</td>\n",
       "      <td>0.734857</td>\n",
       "      <td>0.425639</td>\n",
       "      <td>0.464516</td>\n",
       "      <td>0.017030</td>\n",
       "      <td>0</td>\n",
       "      <td>0</td>\n",
       "      <td>0</td>\n",
       "    </tr>\n",
       "    <tr>\n",
       "      <th>3</th>\n",
       "      <td>1978-04-30</td>\n",
       "      <td>3</td>\n",
       "      <td>0.512325</td>\n",
       "      <td>0.034445</td>\n",
       "      <td>0.820000</td>\n",
       "      <td>0.446548</td>\n",
       "      <td>0.509677</td>\n",
       "      <td>0.018732</td>\n",
       "      <td>0</td>\n",
       "      <td>0</td>\n",
       "      <td>0</td>\n",
       "    </tr>\n",
       "    <tr>\n",
       "      <th>4</th>\n",
       "      <td>1978-05-31</td>\n",
       "      <td>4</td>\n",
       "      <td>0.498043</td>\n",
       "      <td>0.032777</td>\n",
       "      <td>0.716000</td>\n",
       "      <td>0.458441</td>\n",
       "      <td>0.530645</td>\n",
       "      <td>0.019435</td>\n",
       "      <td>0</td>\n",
       "      <td>0</td>\n",
       "      <td>0</td>\n",
       "    </tr>\n",
       "  </tbody>\n",
       "</table>\n",
       "</div>"
      ],
      "text/plain": [
       "         DATE  Time_step  F1-T10Y2Y_norm  F3-IC4WSA_norm  F4-PERMIT_norm  \\\n",
       "0  1978-01-31          0        0.524392        0.038496        0.701143   \n",
       "1  1978-02-28          1        0.523961        0.042729        0.698857   \n",
       "2  1978-03-31          2        0.522467        0.041980        0.734857   \n",
       "3  1978-04-30          3        0.512325        0.034445        0.820000   \n",
       "4  1978-05-31          4        0.498043        0.032777        0.716000   \n",
       "\n",
       "   F5-NFCICREDIT_norm  F6-UMCSENT_norm  F7-A576RC1_norm  Recession  \\\n",
       "0            0.351203         0.543548         0.014578          0   \n",
       "1            0.393372         0.553226         0.015577          0   \n",
       "2            0.425639         0.464516         0.017030          0   \n",
       "3            0.446548         0.509677         0.018732          0   \n",
       "4            0.458441         0.530645         0.019435          0   \n",
       "\n",
       "   Recession_within_6mo  Recession_within_12mo  \n",
       "0                     0                      0  \n",
       "1                     0                      0  \n",
       "2                     0                      0  \n",
       "3                     0                      0  \n",
       "4                     0                      0  "
      ]
     },
     "execution_count": 2,
     "metadata": {},
     "output_type": "execute_result"
    }
   ],
   "source": [
    "data = pd.read_csv('../../Datasets/date-recession-monthly-6-indices-proc.csv')\n",
    "data.head()"
   ]
  },
  {
   "cell_type": "code",
   "execution_count": 3,
   "metadata": {},
   "outputs": [],
   "source": [
    "# X = data.drop(columns=['DATE', 'Recession', 'Recession_within_6mo', 'Recession_within_12mo'], axis=1)\n",
    "X = data.drop(columns=['Time_step', 'DATE', 'Recession', 'Recession_within_6mo', 'Recession_within_12mo'], axis=1)\n",
    "y = data['Recession_within_6mo']\n",
    "# y = data['Recession']\n",
    "# y_6 = data['Recession_within_6mo']\n",
    "# y_12 = data['Recession_within_12mo']\n",
    "\n",
    "test_size = 0.4\n",
    "train_size = 1 - test_size\n",
    "X_train, X_test, y_train, y_test = train_test_split(X, y, test_size=test_size, shuffle=False)"
   ]
  },
  {
   "cell_type": "code",
   "execution_count": 4,
   "metadata": {},
   "outputs": [
    {
     "data": {
      "text/html": [
       "<div>\n",
       "<style scoped>\n",
       "    .dataframe tbody tr th:only-of-type {\n",
       "        vertical-align: middle;\n",
       "    }\n",
       "\n",
       "    .dataframe tbody tr th {\n",
       "        vertical-align: top;\n",
       "    }\n",
       "\n",
       "    .dataframe thead th {\n",
       "        text-align: right;\n",
       "    }\n",
       "</style>\n",
       "<table border=\"1\" class=\"dataframe\">\n",
       "  <thead>\n",
       "    <tr style=\"text-align: right;\">\n",
       "      <th></th>\n",
       "      <th>F1-T10Y2Y_norm</th>\n",
       "      <th>F3-IC4WSA_norm</th>\n",
       "      <th>F4-PERMIT_norm</th>\n",
       "      <th>F5-NFCICREDIT_norm</th>\n",
       "      <th>F6-UMCSENT_norm</th>\n",
       "      <th>F7-A576RC1_norm</th>\n",
       "    </tr>\n",
       "  </thead>\n",
       "  <tbody>\n",
       "    <tr>\n",
       "      <th>0</th>\n",
       "      <td>0.524392</td>\n",
       "      <td>0.038496</td>\n",
       "      <td>0.701143</td>\n",
       "      <td>0.351203</td>\n",
       "      <td>0.543548</td>\n",
       "      <td>0.014578</td>\n",
       "    </tr>\n",
       "    <tr>\n",
       "      <th>1</th>\n",
       "      <td>0.523961</td>\n",
       "      <td>0.042729</td>\n",
       "      <td>0.698857</td>\n",
       "      <td>0.393372</td>\n",
       "      <td>0.553226</td>\n",
       "      <td>0.015577</td>\n",
       "    </tr>\n",
       "    <tr>\n",
       "      <th>2</th>\n",
       "      <td>0.522467</td>\n",
       "      <td>0.041980</td>\n",
       "      <td>0.734857</td>\n",
       "      <td>0.425639</td>\n",
       "      <td>0.464516</td>\n",
       "      <td>0.017030</td>\n",
       "    </tr>\n",
       "    <tr>\n",
       "      <th>3</th>\n",
       "      <td>0.512325</td>\n",
       "      <td>0.034445</td>\n",
       "      <td>0.820000</td>\n",
       "      <td>0.446548</td>\n",
       "      <td>0.509677</td>\n",
       "      <td>0.018732</td>\n",
       "    </tr>\n",
       "    <tr>\n",
       "      <th>4</th>\n",
       "      <td>0.498043</td>\n",
       "      <td>0.032777</td>\n",
       "      <td>0.716000</td>\n",
       "      <td>0.458441</td>\n",
       "      <td>0.530645</td>\n",
       "      <td>0.019435</td>\n",
       "    </tr>\n",
       "    <tr>\n",
       "      <th>...</th>\n",
       "      <td>...</td>\n",
       "      <td>...</td>\n",
       "      <td>...</td>\n",
       "      <td>...</td>\n",
       "      <td>...</td>\n",
       "      <td>...</td>\n",
       "    </tr>\n",
       "    <tr>\n",
       "      <th>319</th>\n",
       "      <td>0.786510</td>\n",
       "      <td>0.036178</td>\n",
       "      <td>0.881714</td>\n",
       "      <td>0.338764</td>\n",
       "      <td>0.740323</td>\n",
       "      <td>0.425910</td>\n",
       "    </tr>\n",
       "    <tr>\n",
       "      <th>320</th>\n",
       "      <td>0.751760</td>\n",
       "      <td>0.035511</td>\n",
       "      <td>0.873143</td>\n",
       "      <td>0.340123</td>\n",
       "      <td>0.712903</td>\n",
       "      <td>0.427464</td>\n",
       "    </tr>\n",
       "    <tr>\n",
       "      <th>321</th>\n",
       "      <td>0.734058</td>\n",
       "      <td>0.035423</td>\n",
       "      <td>0.905143</td>\n",
       "      <td>0.334430</td>\n",
       "      <td>0.672581</td>\n",
       "      <td>0.429092</td>\n",
       "    </tr>\n",
       "    <tr>\n",
       "      <th>322</th>\n",
       "      <td>0.699752</td>\n",
       "      <td>0.033943</td>\n",
       "      <td>0.894857</td>\n",
       "      <td>0.333675</td>\n",
       "      <td>0.690323</td>\n",
       "      <td>0.428630</td>\n",
       "    </tr>\n",
       "    <tr>\n",
       "      <th>323</th>\n",
       "      <td>0.675021</td>\n",
       "      <td>0.033402</td>\n",
       "      <td>0.896571</td>\n",
       "      <td>0.332289</td>\n",
       "      <td>0.759677</td>\n",
       "      <td>0.430554</td>\n",
       "    </tr>\n",
       "  </tbody>\n",
       "</table>\n",
       "<p>324 rows × 6 columns</p>\n",
       "</div>"
      ],
      "text/plain": [
       "     F1-T10Y2Y_norm  F3-IC4WSA_norm  F4-PERMIT_norm  F5-NFCICREDIT_norm  \\\n",
       "0          0.524392        0.038496        0.701143            0.351203   \n",
       "1          0.523961        0.042729        0.698857            0.393372   \n",
       "2          0.522467        0.041980        0.734857            0.425639   \n",
       "3          0.512325        0.034445        0.820000            0.446548   \n",
       "4          0.498043        0.032777        0.716000            0.458441   \n",
       "..              ...             ...             ...                 ...   \n",
       "319        0.786510        0.036178        0.881714            0.338764   \n",
       "320        0.751760        0.035511        0.873143            0.340123   \n",
       "321        0.734058        0.035423        0.905143            0.334430   \n",
       "322        0.699752        0.033943        0.894857            0.333675   \n",
       "323        0.675021        0.033402        0.896571            0.332289   \n",
       "\n",
       "     F6-UMCSENT_norm  F7-A576RC1_norm  \n",
       "0           0.543548         0.014578  \n",
       "1           0.553226         0.015577  \n",
       "2           0.464516         0.017030  \n",
       "3           0.509677         0.018732  \n",
       "4           0.530645         0.019435  \n",
       "..               ...              ...  \n",
       "319         0.740323         0.425910  \n",
       "320         0.712903         0.427464  \n",
       "321         0.672581         0.429092  \n",
       "322         0.690323         0.428630  \n",
       "323         0.759677         0.430554  \n",
       "\n",
       "[324 rows x 6 columns]"
      ]
     },
     "execution_count": 4,
     "metadata": {},
     "output_type": "execute_result"
    }
   ],
   "source": [
    "X_train"
   ]
  },
  {
   "cell_type": "code",
   "execution_count": 5,
   "metadata": {},
   "outputs": [
    {
     "data": {
      "text/html": [
       "<div>\n",
       "<style scoped>\n",
       "    .dataframe tbody tr th:only-of-type {\n",
       "        vertical-align: middle;\n",
       "    }\n",
       "\n",
       "    .dataframe tbody tr th {\n",
       "        vertical-align: top;\n",
       "    }\n",
       "\n",
       "    .dataframe thead th {\n",
       "        text-align: right;\n",
       "    }\n",
       "</style>\n",
       "<table border=\"1\" class=\"dataframe\">\n",
       "  <thead>\n",
       "    <tr style=\"text-align: right;\">\n",
       "      <th></th>\n",
       "      <th>F1-T10Y2Y_norm</th>\n",
       "      <th>F3-IC4WSA_norm</th>\n",
       "      <th>F4-PERMIT_norm</th>\n",
       "      <th>F5-NFCICREDIT_norm</th>\n",
       "      <th>F6-UMCSENT_norm</th>\n",
       "      <th>F7-A576RC1_norm</th>\n",
       "    </tr>\n",
       "  </thead>\n",
       "  <tbody>\n",
       "    <tr>\n",
       "      <th>324</th>\n",
       "      <td>0.630737</td>\n",
       "      <td>0.036067</td>\n",
       "      <td>0.929143</td>\n",
       "      <td>0.331503</td>\n",
       "      <td>0.733871</td>\n",
       "      <td>0.431867</td>\n",
       "    </tr>\n",
       "    <tr>\n",
       "      <th>325</th>\n",
       "      <td>0.586778</td>\n",
       "      <td>0.031084</td>\n",
       "      <td>0.914857</td>\n",
       "      <td>0.334453</td>\n",
       "      <td>0.711290</td>\n",
       "      <td>0.433255</td>\n",
       "    </tr>\n",
       "    <tr>\n",
       "      <th>326</th>\n",
       "      <td>0.584843</td>\n",
       "      <td>0.032541</td>\n",
       "      <td>0.885143</td>\n",
       "      <td>0.332702</td>\n",
       "      <td>0.687097</td>\n",
       "      <td>0.433847</td>\n",
       "    </tr>\n",
       "    <tr>\n",
       "      <th>327</th>\n",
       "      <td>0.567988</td>\n",
       "      <td>0.033002</td>\n",
       "      <td>0.935429</td>\n",
       "      <td>0.336785</td>\n",
       "      <td>0.608065</td>\n",
       "      <td>0.436881</td>\n",
       "    </tr>\n",
       "    <tr>\n",
       "      <th>328</th>\n",
       "      <td>0.530429</td>\n",
       "      <td>0.032597</td>\n",
       "      <td>0.898286</td>\n",
       "      <td>0.354515</td>\n",
       "      <td>0.595161</td>\n",
       "      <td>0.438583</td>\n",
       "    </tr>\n",
       "    <tr>\n",
       "      <th>...</th>\n",
       "      <td>...</td>\n",
       "      <td>...</td>\n",
       "      <td>...</td>\n",
       "      <td>...</td>\n",
       "      <td>...</td>\n",
       "      <td>...</td>\n",
       "    </tr>\n",
       "    <tr>\n",
       "      <th>536</th>\n",
       "      <td>0.361795</td>\n",
       "      <td>0.009180</td>\n",
       "      <td>0.600571</td>\n",
       "      <td>0.411358</td>\n",
       "      <td>0.138710</td>\n",
       "      <td>0.976532</td>\n",
       "    </tr>\n",
       "    <tr>\n",
       "      <th>537</th>\n",
       "      <td>0.350954</td>\n",
       "      <td>0.007940</td>\n",
       "      <td>0.570857</td>\n",
       "      <td>0.422115</td>\n",
       "      <td>0.159677</td>\n",
       "      <td>0.981749</td>\n",
       "    </tr>\n",
       "    <tr>\n",
       "      <th>538</th>\n",
       "      <td>0.306486</td>\n",
       "      <td>0.010263</td>\n",
       "      <td>0.478857</td>\n",
       "      <td>0.409012</td>\n",
       "      <td>0.109677</td>\n",
       "      <td>0.986078</td>\n",
       "    </tr>\n",
       "    <tr>\n",
       "      <th>539</th>\n",
       "      <td>0.294438</td>\n",
       "      <td>0.009972</td>\n",
       "      <td>0.470857</td>\n",
       "      <td>0.407195</td>\n",
       "      <td>0.156452</td>\n",
       "      <td>0.990056</td>\n",
       "    </tr>\n",
       "    <tr>\n",
       "      <th>540</th>\n",
       "      <td>0.293710</td>\n",
       "      <td>0.005405</td>\n",
       "      <td>0.472000</td>\n",
       "      <td>0.406273</td>\n",
       "      <td>0.240323</td>\n",
       "      <td>1.000000</td>\n",
       "    </tr>\n",
       "  </tbody>\n",
       "</table>\n",
       "<p>217 rows × 6 columns</p>\n",
       "</div>"
      ],
      "text/plain": [
       "     F1-T10Y2Y_norm  F3-IC4WSA_norm  F4-PERMIT_norm  F5-NFCICREDIT_norm  \\\n",
       "324        0.630737        0.036067        0.929143            0.331503   \n",
       "325        0.586778        0.031084        0.914857            0.334453   \n",
       "326        0.584843        0.032541        0.885143            0.332702   \n",
       "327        0.567988        0.033002        0.935429            0.336785   \n",
       "328        0.530429        0.032597        0.898286            0.354515   \n",
       "..              ...             ...             ...                 ...   \n",
       "536        0.361795        0.009180        0.600571            0.411358   \n",
       "537        0.350954        0.007940        0.570857            0.422115   \n",
       "538        0.306486        0.010263        0.478857            0.409012   \n",
       "539        0.294438        0.009972        0.470857            0.407195   \n",
       "540        0.293710        0.005405        0.472000            0.406273   \n",
       "\n",
       "     F6-UMCSENT_norm  F7-A576RC1_norm  \n",
       "324         0.733871         0.431867  \n",
       "325         0.711290         0.433255  \n",
       "326         0.687097         0.433847  \n",
       "327         0.608065         0.436881  \n",
       "328         0.595161         0.438583  \n",
       "..               ...              ...  \n",
       "536         0.138710         0.976532  \n",
       "537         0.159677         0.981749  \n",
       "538         0.109677         0.986078  \n",
       "539         0.156452         0.990056  \n",
       "540         0.240323         1.000000  \n",
       "\n",
       "[217 rows x 6 columns]"
      ]
     },
     "execution_count": 5,
     "metadata": {},
     "output_type": "execute_result"
    }
   ],
   "source": [
    "X_test"
   ]
  },
  {
   "cell_type": "code",
   "execution_count": 6,
   "metadata": {},
   "outputs": [
    {
     "data": {
      "text/plain": [
       "0    447\n",
       "1     94\n",
       "Name: Recession_within_6mo, dtype: int64"
      ]
     },
     "execution_count": 6,
     "metadata": {},
     "output_type": "execute_result"
    }
   ],
   "source": [
    "y.value_counts()"
   ]
  },
  {
   "attachments": {},
   "cell_type": "markdown",
   "metadata": {},
   "source": [
    "## 1. KNN Classifier\n",
    "- a non-parametric model\n",
    "- key considerations: \n",
    "  - k value (too small -> overfit, too large -> oversmooth) \n",
    "  - distance metric \n",
    "  - data should be normalized"
   ]
  },
  {
   "cell_type": "code",
   "execution_count": 7,
   "metadata": {},
   "outputs": [],
   "source": [
    "k = 4\n",
    "knn = KNeighborsClassifier(n_neighbors=k, weights='distance')"
   ]
  },
  {
   "cell_type": "code",
   "execution_count": 8,
   "metadata": {},
   "outputs": [],
   "source": [
    "class_weights = {}\n",
    "unique_classes = set(y_train)\n",
    "for cls in unique_classes:\n",
    "    class_weights[cls] = 1.0 / (y_train[y_train == cls].shape[0])"
   ]
  },
  {
   "cell_type": "code",
   "execution_count": 9,
   "metadata": {},
   "outputs": [
    {
     "data": {
      "text/plain": [
       "KNeighborsClassifier(n_neighbors=4, weights='distance')"
      ]
     },
     "execution_count": 9,
     "metadata": {},
     "output_type": "execute_result"
    }
   ],
   "source": [
    "knn.fit(X_train, y_train)"
   ]
  },
  {
   "cell_type": "code",
   "execution_count": 10,
   "metadata": {},
   "outputs": [],
   "source": [
    "y_pred = knn.predict(X_test)"
   ]
  },
  {
   "attachments": {},
   "cell_type": "markdown",
   "metadata": {},
   "source": [
    "📌 Note: high acc, but bc it always predict 0 -> labels imbalance problem\n",
    "\n",
    "k=5:\n",
    "- acc: 0.926605504587156"
   ]
  },
  {
   "cell_type": "code",
   "execution_count": 11,
   "metadata": {},
   "outputs": [
    {
     "name": "stdout",
     "output_type": "stream",
     "text": [
      "acc: 0.543778801843318\n"
     ]
    }
   ],
   "source": [
    "acc = accuracy_score(y_test, y_pred)\n",
    "print(f\"acc: {acc}\")"
   ]
  },
  {
   "cell_type": "code",
   "execution_count": 12,
   "metadata": {},
   "outputs": [
    {
     "data": {
      "image/png": "[encoded data removed]",
      "text/plain": [
       "<Figure size 1152x288 with 1 Axes>"
      ]
     },
     "metadata": {
      "needs_background": "light"
     },
     "output_type": "display_data"
    }
   ],
   "source": [
    "t = list(data['DATE'])\n",
    "\n",
    "fig, ax = plt.subplots()\n",
    "fig.set_figwidth(16)\n",
    "fig.set_figheight(4)\n",
    "ax.plot(t, y, label='actual')\n",
    "ax.plot(t[int(train_size*len(t)):], y_pred, label='predicted')\n",
    "ax.tick_params(axis='x', labelrotation=-30)\n",
    "ax.xaxis.set_major_locator(plt.MaxNLocator(20))\n",
    "\n",
    "plt.legend()\n",
    "plt.show()"
   ]
  },
  {
   "attachments": {},
   "cell_type": "markdown",
   "metadata": {},
   "source": [
    "## 2. SVM"
   ]
  },
  {
   "cell_type": "code",
   "execution_count": 13,
   "metadata": {},
   "outputs": [
    {
     "data": {
      "text/plain": [
       "SVC(C=1, class_weight='balanced')"
      ]
     },
     "execution_count": 13,
     "metadata": {},
     "output_type": "execute_result"
    }
   ],
   "source": [
    "svm_classifier = SVC(C=1, class_weight='balanced')\n",
    "# svm_classifier = SVC(C=1, kernel='rbf', probability=True,\n",
    "#                               tol=1e-3, random_state=123,\n",
    "#                               class_weight='balanced')\n",
    "svm_classifier.fit(X_train, y_train)"
   ]
  },
  {
   "cell_type": "code",
   "execution_count": 14,
   "metadata": {},
   "outputs": [
    {
     "name": "stdout",
     "output_type": "stream",
     "text": [
      "Accuracy: 0.35944700460829493\n"
     ]
    }
   ],
   "source": [
    "y_pred = svm_classifier.predict(X_test)\n",
    "\n",
    "acc = accuracy_score(y_test, y_pred)\n",
    "# cls_report = classification_report(y_test, y_pred)\n",
    "\n",
    "print('Accuracy:', acc)\n",
    "# print('Classification Report:')\n",
    "# print(classification_report)"
   ]
  },
  {
   "cell_type": "code",
   "execution_count": 15,
   "metadata": {},
   "outputs": [
    {
     "data": {
      "image/png": "[encoded data removed]",
      "text/plain": [
       "<Figure size 1152x288 with 1 Axes>"
      ]
     },
     "metadata": {
      "needs_background": "light"
     },
     "output_type": "display_data"
    }
   ],
   "source": [
    "t = list(data['DATE'])\n",
    "\n",
    "fig, ax = plt.subplots()\n",
    "fig.set_figwidth(16)\n",
    "fig.set_figheight(4)\n",
    "ax.plot(t, y, label='actual')\n",
    "ax.plot(t[int(train_size*len(t)):], y_pred, label='predicted')\n",
    "ax.tick_params(axis='x', labelrotation=-30)\n",
    "ax.xaxis.set_major_locator(plt.MaxNLocator(20))\n",
    "\n",
    "plt.legend()\n",
    "plt.show()"
   ]
  },
  {
   "cell_type": "code",
   "execution_count": null,
   "metadata": {},
   "outputs": [],
   "source": []
  }
 ],
 "metadata": {
  "kernelspec": {
   "display_name": "base",
   "language": "python",
   "name": "python3"
  },
  "language_info": {
   "codemirror_mode": {
    "name": "ipython",
    "version": 3
   },
   "file_extension": ".py",
   "mimetype": "text/x-python",
   "name": "python",
   "nbconvert_exporter": "python",
   "pygments_lexer": "ipython3",
   "version": "3.9.7"
  },
  "orig_nbformat": 4
 },
 "nbformat": 4,
 "nbformat_minor": 2
}
